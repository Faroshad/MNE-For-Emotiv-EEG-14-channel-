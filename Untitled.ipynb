{
 "cells": [
  {
   "cell_type": "code",
   "execution_count": 110,
   "id": "79a3ae7b-1e7c-4818-b86b-035fa67c6514",
   "metadata": {},
   "outputs": [],
   "source": [
    "import matplotlib\n",
    "import pathlib\n",
    "import mne\n",
    "import mne_bids"
   ]
  },
  {
   "cell_type": "code",
   "execution_count": 111,
   "id": "67f3c7f2-cb6d-4086-8931-d67aff05fac3",
   "metadata": {},
   "outputs": [],
   "source": [
    "matplotlib.use('Qt5Agg')"
   ]
  },
  {
   "cell_type": "code",
   "execution_count": 112,
   "id": "3c6bd787-ad4d-4da7-9637-775696c40f7b",
   "metadata": {},
   "outputs": [
    {
     "name": "stdout",
     "output_type": "stream",
     "text": [
      "Extracting EDF parameters from E:\\Uni\\Arshad\\T3\\BAGH IRANI\\f-askari\\New Bagh\\task1\\Sub1-task1-final.edf...\n",
      "EDF file detected\n",
      "Setting channel info structure...\n",
      "Creating raw.info structure...\n"
     ]
    }
   ],
   "source": [
    "participants_name = 'Sub1-task1-final'\n",
    "# fname = 'E:/Uni/Arshad\\T3/BAGH IRANI/f-askari/New Bagh/task1/'+participants_name+'.edf'\n",
    "edf1 = mne.io.read_raw_edf('E:/Uni/Arshad\\T3/BAGH IRANI/f-askari/New Bagh/task1/'+participants_name+'.edf')\n",
    "edf1\n",
    "edf1_downsampled = edf1.resample(sfreq=edf1.info['sfreq']/2)"
   ]
  },
  {
   "cell_type": "code",
   "execution_count": 113,
   "id": "15765eb2-d200-46de-afad-85df12a3c9e5",
   "metadata": {},
   "outputs": [
    {
     "name": "stdout",
     "output_type": "stream",
     "text": [
      "the sfreq is: 128.0\n",
      "the meas_date is: 2021-02-08 13:21:57+00:00\n",
      "the events is: []\n"
     ]
    },
    {
     "data": {
      "text/plain": [
       "['AF3-LE',\n",
       " 'F7-LE',\n",
       " 'F3-LE',\n",
       " 'FC5-LE',\n",
       " 'T3-LE',\n",
       " 'T5-LE',\n",
       " 'O1-LE',\n",
       " 'O2-LE',\n",
       " 'T6-LE',\n",
       " 'T4-LE',\n",
       " 'FC6-LE',\n",
       " 'F4-LE',\n",
       " 'F8-LE',\n",
       " 'AF4-LE']"
      ]
     },
     "execution_count": 113,
     "metadata": {},
     "output_type": "execute_result"
    }
   ],
   "source": [
    "meas_date = edf1.info['meas_date']\n",
    "sfreq = edf1.info['sfreq']\n",
    "events = edf1.info['events']\n",
    "print('the sfreq is: ' + str(sfreq))\n",
    "print('the meas_date is: ' + str(meas_date))\n",
    "print('the events is: ' + str(events))\n",
    "edf1.ch_names[:14]"
   ]
  },
  {
   "cell_type": "code",
   "execution_count": 114,
   "id": "4db5193c-9059-448a-90d2-14aece260029",
   "metadata": {},
   "outputs": [
    {
     "data": {
      "text/plain": [
       "['AF3',\n",
       " 'F7',\n",
       " 'F3',\n",
       " 'FC5',\n",
       " 'T7',\n",
       " 'P7',\n",
       " 'O1',\n",
       " 'O2',\n",
       " 'P8',\n",
       " 'T8',\n",
       " 'FC6',\n",
       " 'F4',\n",
       " 'F8',\n",
       " 'AF4']"
      ]
     },
     "execution_count": 114,
     "metadata": {},
     "output_type": "execute_result"
    }
   ],
   "source": [
    "correct_channels = {'AF3-LE':'AF3',\n",
    "                    'F7-LE':'F7',\n",
    "                    'F3-LE':'F3',\n",
    "                    'FC5-LE':'FC5',\n",
    "                    'T3-LE':'T7',\n",
    "                    'T5-LE':'P7',\n",
    "                    'O1-LE':'O1',\n",
    "                    'O2-LE':'O2',\n",
    "                    'T6-LE':'P8',\n",
    "                    'T4-LE':'T8',\n",
    "                    'FC6-LE':'FC6',\n",
    "                    'F4-LE':'F4',\n",
    "                    'F8-LE':'F8',\n",
    "                    'AF4-LE':'AF4'}\n",
    "edf1. rename_channels(correct_channels, allow_duplicates=False, verbose=None)\n",
    "\n",
    "\n",
    "edf1.ch_names[:14]"
   ]
  },
  {
   "cell_type": "code",
   "execution_count": 115,
   "id": "693acc56-f9cc-4770-8ecd-4afd8cc55c5b",
   "metadata": {},
   "outputs": [
    {
     "name": "stdout",
     "output_type": "stream",
     "text": [
      "Filtering raw data in 1 contiguous segment\n",
      "Setting up band-pass filter from 0.1 - 40 Hz\n",
      "\n",
      "FIR filter parameters\n",
      "---------------------\n",
      "Designing a one-pass, zero-phase, non-causal bandpass filter:\n",
      "- Windowed time-domain design (firwin) method\n",
      "- Hamming window with 0.0194 passband ripple and 53 dB stopband attenuation\n",
      "- Lower passband edge: 0.10\n",
      "- Lower transition bandwidth: 0.10 Hz (-6 dB cutoff frequency: 0.05 Hz)\n",
      "- Upper passband edge: 40.00 Hz\n",
      "- Upper transition bandwidth: 10.00 Hz (-6 dB cutoff frequency: 45.00 Hz)\n",
      "- Filter length: 4225 samples (33.008 sec)\n",
      "\n"
     ]
    },
    {
     "name": "stderr",
     "output_type": "stream",
     "text": [
      "[Parallel(n_jobs=1)]: Using backend SequentialBackend with 1 concurrent workers.\n",
      "[Parallel(n_jobs=1)]: Done   1 out of   1 | elapsed:    0.0s remaining:    0.0s\n",
      "[Parallel(n_jobs=1)]: Done   2 out of   2 | elapsed:    0.0s remaining:    0.0s\n",
      "[Parallel(n_jobs=1)]: Done   3 out of   3 | elapsed:    0.0s remaining:    0.0s\n",
      "[Parallel(n_jobs=1)]: Done   4 out of   4 | elapsed:    0.0s remaining:    0.0s\n",
      "[Parallel(n_jobs=1)]: Done  14 out of  14 | elapsed:    0.0s finished\n"
     ]
    }
   ],
   "source": [
    "edf1.load_data()\n",
    "edf1_filtered = edf1.filter(l_freq=0.1, h_freq=40)"
   ]
  },
  {
   "cell_type": "code",
   "execution_count": 116,
   "id": "3b204498-870a-491f-bf31-bd1cf3609886",
   "metadata": {},
   "outputs": [
    {
     "name": "stdout",
     "output_type": "stream",
     "text": [
      "Extracting EDF parameters from E:\\Uni\\Arshad\\T3\\BAGH IRANI\\f-askari\\New Bagh\\task2\\Sub1-task2-final.edf...\n",
      "EDF file detected\n",
      "Setting channel info structure...\n",
      "Creating raw.info structure...\n"
     ]
    }
   ],
   "source": [
    "participants_name = 'Sub1-task2-final'\n",
    "# fname = 'E:/Uni/Arshad\\T3/BAGH IRANI/f-askari/New Bagh/task1/'+participants_name+'.edf'\n",
    "edf2 = mne.io.read_raw_edf('E:/Uni/Arshad\\T3/BAGH IRANI/f-askari/New Bagh/task2/'+participants_name+'.edf')\n",
    "edf2\n",
    "edf2_downsampled = edf2.resample(sfreq=edf2.info['sfreq']/2)"
   ]
  },
  {
   "cell_type": "code",
   "execution_count": 117,
   "id": "c888c4c3-5ff4-4d81-b6ad-ff1eb0135527",
   "metadata": {},
   "outputs": [
    {
     "name": "stdout",
     "output_type": "stream",
     "text": [
      "the sfreq is: 128.0\n",
      "the meas_date is: 2021-02-08 13:28:42+00:00\n",
      "the events is: []\n"
     ]
    },
    {
     "data": {
      "text/plain": [
       "['AF3-LE',\n",
       " 'F7-LE',\n",
       " 'F3-LE',\n",
       " 'FC5-LE',\n",
       " 'T3-LE',\n",
       " 'T5-LE',\n",
       " 'O1-LE',\n",
       " 'O2-LE',\n",
       " 'T6-LE',\n",
       " 'T4-LE',\n",
       " 'FC6-LE',\n",
       " 'F4-LE',\n",
       " 'F8-LE',\n",
       " 'AF4-LE']"
      ]
     },
     "execution_count": 117,
     "metadata": {},
     "output_type": "execute_result"
    }
   ],
   "source": [
    "meas_date = edf2.info['meas_date']\n",
    "sfreq = edf2.info['sfreq']\n",
    "events = edf2.info['events']\n",
    "print('the sfreq is: ' + str(sfreq))\n",
    "print('the meas_date is: ' + str(meas_date))\n",
    "print('the events is: ' + str(events))\n",
    "edf2.ch_names[:14]"
   ]
  },
  {
   "cell_type": "code",
   "execution_count": 118,
   "id": "c30c51af-e921-48aa-95ef-469f3de6d50e",
   "metadata": {},
   "outputs": [
    {
     "data": {
      "text/plain": [
       "['AF3',\n",
       " 'F7',\n",
       " 'F3',\n",
       " 'FC5',\n",
       " 'T7',\n",
       " 'P7',\n",
       " 'O1',\n",
       " 'O2',\n",
       " 'P8',\n",
       " 'T8',\n",
       " 'FC6',\n",
       " 'F4',\n",
       " 'F8',\n",
       " 'AF4']"
      ]
     },
     "execution_count": 118,
     "metadata": {},
     "output_type": "execute_result"
    }
   ],
   "source": [
    "correct_channels = {'AF3-LE':'AF3',\n",
    "                    'F7-LE':'F7',\n",
    "                    'F3-LE':'F3',\n",
    "                    'FC5-LE':'FC5',\n",
    "                    'T3-LE':'T7',\n",
    "                    'T5-LE':'P7',\n",
    "                    'O1-LE':'O1',\n",
    "                    'O2-LE':'O2',\n",
    "                    'T6-LE':'P8',\n",
    "                    'T4-LE':'T8',\n",
    "                    'FC6-LE':'FC6',\n",
    "                    'F4-LE':'F4',\n",
    "                    'F8-LE':'F8',\n",
    "                    'AF4-LE':'AF4'}\n",
    "edf2. rename_channels(correct_channels, allow_duplicates=False, verbose=None)\n",
    "\n",
    "\n",
    "edf2.ch_names[:14]"
   ]
  },
  {
   "cell_type": "code",
   "execution_count": 119,
   "id": "b08a3a7a-c00f-47a5-8b95-879e76747302",
   "metadata": {},
   "outputs": [
    {
     "name": "stdout",
     "output_type": "stream",
     "text": [
      "Filtering raw data in 1 contiguous segment\n",
      "Setting up band-pass filter from 0.1 - 40 Hz\n",
      "\n",
      "FIR filter parameters\n",
      "---------------------\n",
      "Designing a one-pass, zero-phase, non-causal bandpass filter:\n",
      "- Windowed time-domain design (firwin) method\n",
      "- Hamming window with 0.0194 passband ripple and 53 dB stopband attenuation\n",
      "- Lower passband edge: 0.10\n",
      "- Lower transition bandwidth: 0.10 Hz (-6 dB cutoff frequency: 0.05 Hz)\n",
      "- Upper passband edge: 40.00 Hz\n",
      "- Upper transition bandwidth: 10.00 Hz (-6 dB cutoff frequency: 45.00 Hz)\n",
      "- Filter length: 4225 samples (33.008 sec)\n",
      "\n"
     ]
    },
    {
     "name": "stderr",
     "output_type": "stream",
     "text": [
      "[Parallel(n_jobs=1)]: Using backend SequentialBackend with 1 concurrent workers.\n",
      "[Parallel(n_jobs=1)]: Done   1 out of   1 | elapsed:    0.0s remaining:    0.0s\n",
      "[Parallel(n_jobs=1)]: Done   2 out of   2 | elapsed:    0.0s remaining:    0.0s\n",
      "[Parallel(n_jobs=1)]: Done   3 out of   3 | elapsed:    0.0s remaining:    0.0s\n",
      "[Parallel(n_jobs=1)]: Done   4 out of   4 | elapsed:    0.0s remaining:    0.0s\n",
      "[Parallel(n_jobs=1)]: Done  14 out of  14 | elapsed:    0.0s finished\n"
     ]
    }
   ],
   "source": [
    "edf2.load_data()\n",
    "edf2_filtered = edf2.filter(l_freq=0.1, h_freq=40)"
   ]
  },
  {
   "cell_type": "code",
   "execution_count": 120,
   "id": "061d89d0-b779-44ba-97b9-74317f4e0015",
   "metadata": {},
   "outputs": [
    {
     "name": "stdout",
     "output_type": "stream",
     "text": [
      "(1, 29184)\n",
      "the number of items in each row is:2\n",
      "the number of rows is:29184\n",
      "(array([[ 6.77626358e-21, -1.89310714e-07,  1.87298701e-07, ...,\n",
      "        -1.03433450e-09, -8.69179965e-10, -2.54109884e-21]]), array([0.00000000e+00, 7.81250000e-03, 1.56250000e-02, ...,\n",
      "       3.57976562e+02, 3.57984375e+02, 3.57992188e+02]))\n",
      "the number of items in each row is:2\n",
      "the number of rows is:45824\n"
     ]
    }
   ],
   "source": [
    "\n",
    "print(edf1_filtered[13][0].shape)\n",
    "print('the number of items in each row is:'+ str(len(edf1_filtered[0])))\n",
    "print('the number of rows is:'+ str(len(edf1_filtered)))\n",
    "print(edf2_filtered[13])\n",
    "print('the number of items in each row is:'+ str(len(edf2_filtered[0])))\n",
    "print('the number of rows is:'+ str(len(edf2_filtered)))"
   ]
  },
  {
   "cell_type": "code",
   "execution_count": 121,
   "id": "a431cf3c-32f1-4c01-81ec-e2b1ca851489",
   "metadata": {},
   "outputs": [],
   "source": [
    "import scipy.stats as stats"
   ]
  },
  {
   "cell_type": "code",
   "execution_count": 122,
   "id": "83ffb044-9e70-4e30-8c52-5472b0f562be",
   "metadata": {},
   "outputs": [],
   "source": [
    "from functools import partial\n",
    "\n",
    "import numpy as np\n",
    "from scipy import stats\n",
    "import matplotlib.pyplot as plt\n",
    "from mpl_toolkits.mplot3d import Axes3D  # noqa, analysis:ignore\n",
    "\n",
    "import mne\n",
    "from mne.stats import (ttest_1samp_no_p, bonferroni_correction, fdr_correction,\n",
    "                       permutation_t_test, permutation_cluster_1samp_test)"
   ]
  },
  {
   "cell_type": "code",
   "execution_count": 123,
   "id": "b5ca80c0-af69-4c8e-a34c-c5a88680f837",
   "metadata": {},
   "outputs": [],
   "source": [
    "width = 40\n",
    "n_subjects = 11\n",
    "signal_mean = 100\n",
    "signal_sd = 100\n",
    "noise_sd = 0.01\n",
    "gaussian_sd = 5\n",
    "sigma = 1e-3  # sigma for the \"hat\" method\n",
    "n_permutations = 'all'  # run an exact test\n",
    "n_src = width * width\n",
    "\n",
    "# For each \"subject\", make a smoothed noisy signal with a centered peak\n",
    "rng = np.random.RandomState(2)\n",
    "X = noise_sd * rng.randn(n_subjects, width, width)\n",
    "# Add a signal at the center\n",
    "X[:, width // 2, width // 2] = signal_mean + rng.randn(n_subjects) * signal_sd\n",
    "# Spatially smooth with a 2D Gaussian kernel\n",
    "size = width // 2 - 1\n",
    "gaussian = np.exp(-(np.arange(-size, size + 1) ** 2 / float(gaussian_sd ** 2)))\n",
    "for si in range(X.shape[0]):\n",
    "    for ri in range(X.shape[1]):\n",
    "        X[si, ri, :] = np.convolve(X[si, ri, :], gaussian, 'same')\n",
    "    for ci in range(X.shape[2]):\n",
    "        X[si, :, ci] = np.convolve(X[si, :, ci], gaussian, 'same')"
   ]
  },
  {
   "cell_type": "code",
   "execution_count": 124,
   "id": "fe30c762-5e8a-4c57-a972-3e1a432dae70",
   "metadata": {},
   "outputs": [
    {
     "data": {
      "text/plain": [
       "[[], [], Text(0.5, 1.0, 'Data averaged over subjects')]"
      ]
     },
     "execution_count": 124,
     "metadata": {},
     "output_type": "execute_result"
    }
   ],
   "source": [
    "fig, ax = plt.subplots()\n",
    "ax.imshow(X.mean(0), cmap='inferno')\n",
    "ax.set(xticks=[], yticks=[], title=\"Data averaged over subjects\")"
   ]
  },
  {
   "cell_type": "code",
   "execution_count": 125,
   "id": "1d90a248-74df-4e46-b46e-934bf2474cd4",
   "metadata": {},
   "outputs": [],
   "source": [
    "titles = ['t']\n",
    "out = stats.ttest_1samp(X, 0, axis=0)\n",
    "ts = [out[0]]\n",
    "ps = [out[1]]\n",
    "mccs = [False]  # these are not multiple-comparisons corrected\n",
    "\n",
    "\n",
    "def plot_t_p(t, p, title, mcc, axes=None):\n",
    "    if axes is None:\n",
    "        fig = plt.figure(figsize=(6, 3))\n",
    "        axes = [fig.add_subplot(121, projection='3d'), fig.add_subplot(122)]\n",
    "        show = True\n",
    "    else:\n",
    "        show = False\n",
    "\n",
    "    # calculate critical t-value thresholds (2-tailed)\n",
    "    p_lims = np.array([0.1, 0.001])\n",
    "    df = n_subjects - 1  # degrees of freedom\n",
    "    t_lims = stats.distributions.t.ppf(1 - p_lims / 2, df=df)\n",
    "    p_lims = [-np.log10(p) for p in p_lims]\n",
    "\n",
    "    # t plot\n",
    "    x, y = np.mgrid[0:width, 0:width]\n",
    "    surf = axes[0].plot_surface(x, y, np.reshape(t, (width, width)),\n",
    "                                rstride=1, cstride=1, linewidth=0,\n",
    "                                vmin=t_lims[0], vmax=t_lims[1], cmap='viridis')\n",
    "    axes[0].set(xticks=[], yticks=[], zticks=[],\n",
    "                xlim=[0, width - 1], ylim=[0, width - 1])\n",
    "    axes[0].view_init(30, 15)\n",
    "    cbar = plt.colorbar(ax=axes[0], shrink=0.75, orientation='horizontal',\n",
    "                        fraction=0.1, pad=0.025, mappable=surf)\n",
    "    cbar.set_ticks(t_lims)\n",
    "    cbar.set_ticklabels(['%0.1f' % t_lim for t_lim in t_lims])\n",
    "    cbar.set_label('t-value')\n",
    "    cbar.ax.get_xaxis().set_label_coords(0.5, -0.3)\n",
    "    if not show:\n",
    "        axes[0].set(title=title)\n",
    "        if mcc:\n",
    "            axes[0].title.set_weight('bold')\n",
    "    # p plot\n",
    "    use_p = -np.log10(np.reshape(np.maximum(p, 1e-5), (width, width)))\n",
    "    img = axes[1].imshow(use_p, cmap='inferno', vmin=p_lims[0], vmax=p_lims[1],\n",
    "                         interpolation='nearest')\n",
    "    axes[1].set(xticks=[], yticks=[])\n",
    "    cbar = plt.colorbar(ax=axes[1], shrink=0.75, orientation='horizontal',\n",
    "                        fraction=0.1, pad=0.025, mappable=img)\n",
    "    cbar.set_ticks(p_lims)\n",
    "    cbar.set_ticklabels(['%0.1f' % p_lim for p_lim in p_lims])\n",
    "    cbar.set_label(r'$-\\log_{10}(p)$')\n",
    "    cbar.ax.get_xaxis().set_label_coords(0.5, -0.3)\n",
    "    if show:\n",
    "        text = fig.suptitle(title)\n",
    "        if mcc:\n",
    "            text.set_weight('bold')\n",
    "        plt.subplots_adjust(0, 0.05, 1, 0.9, wspace=0, hspace=0)\n",
    "        mne.viz.utils.plt_show()\n",
    "\n",
    "\n",
    "plot_t_p(ts[-1], ps[-1], titles[-1], mccs[-1])"
   ]
  },
  {
   "cell_type": "code",
   "execution_count": null,
   "id": "83d05c1c-ba8b-4264-8cdc-20ef4fabd779",
   "metadata": {},
   "outputs": [],
   "source": [
    "# ts.append(ttest_1samp_no_p(X, sigma=sigma))\n",
    "# ps.append(stats.distributions.t.sf(np.abs(ts[-1]), len(X) - 1) * 2)\n",
    "# titles.append(r'$\\mathrm{t_{hat}}$')\n",
    "# mccs.append(False)\n",
    "# plot_t_p(ts[-1], ps[-1], titles[-1], mccs[-1])\n",
    "\n",
    "crop1 = edf1_filtered.crop(tmin=10,tmax=80)\n",
    "\n",
    "crop2 = edf2_filtered.crop(tmin=10,tmax=80)\n"
   ]
  },
  {
   "cell_type": "code",
   "execution_count": 142,
   "id": "41f7de4b-f707-4786-911b-9bc86c68ef5e",
   "metadata": {},
   "outputs": [
    {
     "ename": "ValueError",
     "evalue": "All picks must be < n_channels (14), got 14",
     "output_type": "error",
     "traceback": [
      "\u001b[1;31m---------------------------------------------------------------------------\u001b[0m",
      "\u001b[1;31mValueError\u001b[0m                                Traceback (most recent call last)",
      "\u001b[1;32m~\\AppData\\Local\\Temp\\ipykernel_29504\\2881065927.py\u001b[0m in \u001b[0;36m<module>\u001b[1;34m\u001b[0m\n\u001b[1;32m----> 1\u001b[1;33m \u001b[0mmne\u001b[0m\u001b[1;33m.\u001b[0m\u001b[0mstats\u001b[0m\u001b[1;33m.\u001b[0m\u001b[0mttest_ind_no_p\u001b[0m\u001b[1;33m(\u001b[0m\u001b[0mcrop1\u001b[0m\u001b[1;33m,\u001b[0m \u001b[0mcrop2\u001b[0m\u001b[1;33m,\u001b[0m \u001b[0mequal_var\u001b[0m\u001b[1;33m=\u001b[0m\u001b[1;32mTrue\u001b[0m\u001b[1;33m,\u001b[0m \u001b[0msigma\u001b[0m\u001b[1;33m=\u001b[0m\u001b[1;36m0.0\u001b[0m\u001b[1;33m)\u001b[0m\u001b[1;33m\u001b[0m\u001b[0m\n\u001b[0m",
      "\u001b[1;32mc:\\users\\farsh\\appdata\\local\\programs\\python\\python37\\lib\\site-packages\\mne\\stats\\parametric.py\u001b[0m in \u001b[0;36mttest_ind_no_p\u001b[1;34m(a, b, equal_var, sigma)\u001b[0m\n\u001b[0;32m     83\u001b[0m     \u001b[1;33m.\u001b[0m\u001b[1;33m.\u001b[0m \u001b[0mfootbibliography\u001b[0m\u001b[1;33m:\u001b[0m\u001b[1;33m:\u001b[0m\u001b[1;33m\u001b[0m\u001b[0m\n\u001b[0;32m     84\u001b[0m     \"\"\"\n\u001b[1;32m---> 85\u001b[1;33m     \u001b[0mv1\u001b[0m \u001b[1;33m=\u001b[0m \u001b[0mnp\u001b[0m\u001b[1;33m.\u001b[0m\u001b[0mvar\u001b[0m\u001b[1;33m(\u001b[0m\u001b[0ma\u001b[0m\u001b[1;33m,\u001b[0m \u001b[0maxis\u001b[0m\u001b[1;33m=\u001b[0m\u001b[1;36m0\u001b[0m\u001b[1;33m,\u001b[0m \u001b[0mddof\u001b[0m\u001b[1;33m=\u001b[0m\u001b[1;36m1\u001b[0m\u001b[1;33m)\u001b[0m\u001b[1;33m\u001b[0m\u001b[0m\n\u001b[0m\u001b[0;32m     86\u001b[0m     \u001b[0mv2\u001b[0m \u001b[1;33m=\u001b[0m \u001b[0mnp\u001b[0m\u001b[1;33m.\u001b[0m\u001b[0mvar\u001b[0m\u001b[1;33m(\u001b[0m\u001b[0mb\u001b[0m\u001b[1;33m,\u001b[0m \u001b[0maxis\u001b[0m\u001b[1;33m=\u001b[0m\u001b[1;36m0\u001b[0m\u001b[1;33m,\u001b[0m \u001b[0mddof\u001b[0m\u001b[1;33m=\u001b[0m\u001b[1;36m1\u001b[0m\u001b[1;33m)\u001b[0m\u001b[1;33m\u001b[0m\u001b[0m\n\u001b[0;32m     87\u001b[0m     \u001b[0mn1\u001b[0m \u001b[1;33m=\u001b[0m \u001b[0ma\u001b[0m\u001b[1;33m.\u001b[0m\u001b[0mshape\u001b[0m\u001b[1;33m[\u001b[0m\u001b[1;36m0\u001b[0m\u001b[1;33m]\u001b[0m\u001b[1;33m\u001b[0m\u001b[0m\n",
      "\u001b[1;32m<__array_function__ internals>\u001b[0m in \u001b[0;36mvar\u001b[1;34m(*args, **kwargs)\u001b[0m\n",
      "\u001b[1;32mc:\\users\\farsh\\appdata\\local\\programs\\python\\python37\\lib\\site-packages\\numpy\\core\\fromnumeric.py\u001b[0m in \u001b[0;36mvar\u001b[1;34m(a, axis, dtype, out, ddof, keepdims, where)\u001b[0m\n\u001b[0;32m   3722\u001b[0m \u001b[1;33m\u001b[0m\u001b[0m\n\u001b[0;32m   3723\u001b[0m     return _methods._var(a, axis=axis, dtype=dtype, out=out, ddof=ddof,\n\u001b[1;32m-> 3724\u001b[1;33m                          **kwargs)\n\u001b[0m\u001b[0;32m   3725\u001b[0m \u001b[1;33m\u001b[0m\u001b[0m\n\u001b[0;32m   3726\u001b[0m \u001b[1;33m\u001b[0m\u001b[0m\n",
      "\u001b[1;32mc:\\users\\farsh\\appdata\\local\\programs\\python\\python37\\lib\\site-packages\\numpy\\core\\_methods.py\u001b[0m in \u001b[0;36m_var\u001b[1;34m(a, axis, dtype, out, ddof, keepdims, where)\u001b[0m\n\u001b[0;32m    195\u001b[0m def _var(a, axis=None, dtype=None, out=None, ddof=0, keepdims=False, *,\n\u001b[0;32m    196\u001b[0m          where=True):\n\u001b[1;32m--> 197\u001b[1;33m     \u001b[0marr\u001b[0m \u001b[1;33m=\u001b[0m \u001b[0masanyarray\u001b[0m\u001b[1;33m(\u001b[0m\u001b[0ma\u001b[0m\u001b[1;33m)\u001b[0m\u001b[1;33m\u001b[0m\u001b[0m\n\u001b[0m\u001b[0;32m    198\u001b[0m \u001b[1;33m\u001b[0m\u001b[0m\n\u001b[0;32m    199\u001b[0m     \u001b[0mrcount\u001b[0m \u001b[1;33m=\u001b[0m \u001b[0m_count_reduce_items\u001b[0m\u001b[1;33m(\u001b[0m\u001b[0marr\u001b[0m\u001b[1;33m,\u001b[0m \u001b[0maxis\u001b[0m\u001b[1;33m,\u001b[0m \u001b[0mkeepdims\u001b[0m\u001b[1;33m=\u001b[0m\u001b[0mkeepdims\u001b[0m\u001b[1;33m,\u001b[0m \u001b[0mwhere\u001b[0m\u001b[1;33m=\u001b[0m\u001b[0mwhere\u001b[0m\u001b[1;33m)\u001b[0m\u001b[1;33m\u001b[0m\u001b[0m\n",
      "\u001b[1;32mc:\\users\\farsh\\appdata\\local\\programs\\python\\python37\\lib\\site-packages\\mne\\io\\base.py\u001b[0m in \u001b[0;36m__getitem__\u001b[1;34m(self, item)\u001b[0m\n\u001b[0;32m    746\u001b[0m \u001b[1;33m\u001b[0m\u001b[0m\n\u001b[0;32m    747\u001b[0m         \"\"\"  # noqa: E501\n\u001b[1;32m--> 748\u001b[1;33m         \u001b[1;32mreturn\u001b[0m \u001b[0mself\u001b[0m\u001b[1;33m.\u001b[0m\u001b[0m_getitem\u001b[0m\u001b[1;33m(\u001b[0m\u001b[0mitem\u001b[0m\u001b[1;33m)\u001b[0m\u001b[1;33m\u001b[0m\u001b[0m\n\u001b[0m\u001b[0;32m    749\u001b[0m \u001b[1;33m\u001b[0m\u001b[0m\n\u001b[0;32m    750\u001b[0m     \u001b[1;32mdef\u001b[0m \u001b[0m_getitem\u001b[0m\u001b[1;33m(\u001b[0m\u001b[0mself\u001b[0m\u001b[1;33m,\u001b[0m \u001b[0mitem\u001b[0m\u001b[1;33m,\u001b[0m \u001b[0mreturn_times\u001b[0m\u001b[1;33m=\u001b[0m\u001b[1;32mTrue\u001b[0m\u001b[1;33m)\u001b[0m\u001b[1;33m:\u001b[0m\u001b[1;33m\u001b[0m\u001b[0m\n",
      "\u001b[1;32mc:\\users\\farsh\\appdata\\local\\programs\\python\\python37\\lib\\site-packages\\mne\\io\\base.py\u001b[0m in \u001b[0;36m_getitem\u001b[1;34m(self, item, return_times)\u001b[0m\n\u001b[0;32m    749\u001b[0m \u001b[1;33m\u001b[0m\u001b[0m\n\u001b[0;32m    750\u001b[0m     \u001b[1;32mdef\u001b[0m \u001b[0m_getitem\u001b[0m\u001b[1;33m(\u001b[0m\u001b[0mself\u001b[0m\u001b[1;33m,\u001b[0m \u001b[0mitem\u001b[0m\u001b[1;33m,\u001b[0m \u001b[0mreturn_times\u001b[0m\u001b[1;33m=\u001b[0m\u001b[1;32mTrue\u001b[0m\u001b[1;33m)\u001b[0m\u001b[1;33m:\u001b[0m\u001b[1;33m\u001b[0m\u001b[0m\n\u001b[1;32m--> 751\u001b[1;33m         \u001b[0msel\u001b[0m\u001b[1;33m,\u001b[0m \u001b[0mstart\u001b[0m\u001b[1;33m,\u001b[0m \u001b[0mstop\u001b[0m \u001b[1;33m=\u001b[0m \u001b[0mself\u001b[0m\u001b[1;33m.\u001b[0m\u001b[0m_parse_get_set_params\u001b[0m\u001b[1;33m(\u001b[0m\u001b[0mitem\u001b[0m\u001b[1;33m)\u001b[0m\u001b[1;33m\u001b[0m\u001b[0m\n\u001b[0m\u001b[0;32m    752\u001b[0m         \u001b[1;32mif\u001b[0m \u001b[0mself\u001b[0m\u001b[1;33m.\u001b[0m\u001b[0mpreload\u001b[0m\u001b[1;33m:\u001b[0m\u001b[1;33m\u001b[0m\u001b[0m\n\u001b[0;32m    753\u001b[0m             \u001b[0mdata\u001b[0m \u001b[1;33m=\u001b[0m \u001b[0mself\u001b[0m\u001b[1;33m.\u001b[0m\u001b[0m_data\u001b[0m\u001b[1;33m[\u001b[0m\u001b[0msel\u001b[0m\u001b[1;33m,\u001b[0m \u001b[0mstart\u001b[0m\u001b[1;33m:\u001b[0m\u001b[0mstop\u001b[0m\u001b[1;33m]\u001b[0m\u001b[1;33m\u001b[0m\u001b[0m\n",
      "\u001b[1;32mc:\\users\\farsh\\appdata\\local\\programs\\python\\python37\\lib\\site-packages\\mne\\io\\base.py\u001b[0m in \u001b[0;36m_parse_get_set_params\u001b[1;34m(self, item)\u001b[0m\n\u001b[0;32m    681\u001b[0m                                \"and time)\")\n\u001b[0;32m    682\u001b[0m \u001b[1;33m\u001b[0m\u001b[0m\n\u001b[1;32m--> 683\u001b[1;33m         \u001b[0msel\u001b[0m \u001b[1;33m=\u001b[0m \u001b[0m_picks_to_idx\u001b[0m\u001b[1;33m(\u001b[0m\u001b[0mself\u001b[0m\u001b[1;33m.\u001b[0m\u001b[0minfo\u001b[0m\u001b[1;33m,\u001b[0m \u001b[0mitem\u001b[0m\u001b[1;33m[\u001b[0m\u001b[1;36m0\u001b[0m\u001b[1;33m]\u001b[0m\u001b[1;33m)\u001b[0m\u001b[1;33m\u001b[0m\u001b[0m\n\u001b[0m\u001b[0;32m    684\u001b[0m \u001b[1;33m\u001b[0m\u001b[0m\n\u001b[0;32m    685\u001b[0m         \u001b[1;32mif\u001b[0m \u001b[0misinstance\u001b[0m\u001b[1;33m(\u001b[0m\u001b[0mitem\u001b[0m\u001b[1;33m[\u001b[0m\u001b[1;36m1\u001b[0m\u001b[1;33m]\u001b[0m\u001b[1;33m,\u001b[0m \u001b[0mslice\u001b[0m\u001b[1;33m)\u001b[0m\u001b[1;33m:\u001b[0m\u001b[1;33m\u001b[0m\u001b[0m\n",
      "\u001b[1;32mc:\\users\\farsh\\appdata\\local\\programs\\python\\python37\\lib\\site-packages\\mne\\io\\pick.py\u001b[0m in \u001b[0;36m_picks_to_idx\u001b[1;34m(info, picks, none, exclude, allow_empty, with_ref_meg, return_kind)\u001b[0m\n\u001b[0;32m   1034\u001b[0m     \u001b[1;32mif\u001b[0m \u001b[1;33m(\u001b[0m\u001b[0mpicks\u001b[0m \u001b[1;33m>=\u001b[0m \u001b[0mn_chan\u001b[0m\u001b[1;33m)\u001b[0m\u001b[1;33m.\u001b[0m\u001b[0many\u001b[0m\u001b[1;33m(\u001b[0m\u001b[1;33m)\u001b[0m\u001b[1;33m:\u001b[0m\u001b[1;33m\u001b[0m\u001b[0m\n\u001b[0;32m   1035\u001b[0m         raise ValueError('All picks must be < n_channels (%d), got %r'\n\u001b[1;32m-> 1036\u001b[1;33m                          % (n_chan, orig_picks))\n\u001b[0m\u001b[0;32m   1037\u001b[0m     \u001b[0mpicks\u001b[0m \u001b[1;33m%=\u001b[0m \u001b[0mn_chan\u001b[0m  \u001b[1;31m# ensure positive\u001b[0m\u001b[1;33m\u001b[0m\u001b[0m\n\u001b[0;32m   1038\u001b[0m     \u001b[1;32mif\u001b[0m \u001b[0mreturn_kind\u001b[0m\u001b[1;33m:\u001b[0m\u001b[1;33m\u001b[0m\u001b[0m\n",
      "\u001b[1;31mValueError\u001b[0m: All picks must be < n_channels (14), got 14"
     ]
    }
   ],
   "source": [
    "mne.stats.ttest_ind_no_p(crop1, crop2, equal_var=True, sigma=0.0)"
   ]
  },
  {
   "cell_type": "code",
   "execution_count": null,
   "id": "b4aab0d7-0ed0-4c64-9c6c-efa67f80287e",
   "metadata": {},
   "outputs": [],
   "source": []
  }
 ],
 "metadata": {
  "kernelspec": {
   "display_name": "mne",
   "language": "python",
   "name": "mne"
  },
  "language_info": {
   "codemirror_mode": {
    "name": "ipython",
    "version": 3
   },
   "file_extension": ".py",
   "mimetype": "text/x-python",
   "name": "python",
   "nbconvert_exporter": "python",
   "pygments_lexer": "ipython3",
   "version": "3.7.0"
  }
 },
 "nbformat": 4,
 "nbformat_minor": 5
}
