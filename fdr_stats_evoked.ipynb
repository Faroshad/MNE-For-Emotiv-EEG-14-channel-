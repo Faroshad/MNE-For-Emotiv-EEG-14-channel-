{
 "cells": [
  {
   "cell_type": "code",
   "execution_count": null,
   "metadata": {
    "collapsed": false,
    "jupyter": {
     "outputs_hidden": false
    }
   },
   "outputs": [],
   "source": [
    "%matplotlib inline"
   ]
  },
  {
   "cell_type": "markdown",
   "metadata": {},
   "source": [
    "\n",
    "\n",
    "# FDR correction on T-test on sensor data\n",
    "\n",
    "One tests if the evoked response significantly deviates from 0.\n",
    "Multiple comparison problem is addressed with\n",
    "False Discovery Rate (FDR) correction.\n"
   ]
  },
  {
   "cell_type": "code",
   "execution_count": null,
   "metadata": {
    "collapsed": false,
    "jupyter": {
     "outputs_hidden": false
    }
   },
   "outputs": [],
   "source": [
    "# Authors: Alexandre Gramfort <alexandre.gramfort@inria.fr>\n",
    "#\n",
    "# License: BSD-3-Clause"
   ]
  },
  {
   "cell_type": "code",
   "execution_count": null,
   "metadata": {
    "collapsed": false,
    "jupyter": {
     "outputs_hidden": false
    }
   },
   "outputs": [],
   "source": [
    "import numpy as np\n",
    "from scipy import stats\n",
    "import matplotlib.pyplot as plt\n",
    "\n",
    "import mne\n",
    "from mne import io\n",
    "from mne.datasets import sample\n",
    "from mne.stats import bonferroni_correction, fdr_correction\n",
    "\n",
    "print(__doc__)"
   ]
  },
  {
   "cell_type": "markdown",
   "metadata": {},
   "source": [
    "Set parameters\n",
    "\n"
   ]
  },
  {
   "cell_type": "code",
   "execution_count": null,
   "metadata": {
    "collapsed": false,
    "jupyter": {
     "outputs_hidden": false
    }
   },
   "outputs": [],
   "source": [
    "\n",
    "raw_fname = meg_path / 'sample_audvis_filt-0-40_raw.fif'\n",
    "\n",
    "\n",
    "#   Setup for reading the raw data\n",
    "raw = io.read_raw_fif(raw_fname)\n",
    "events = mne.read_events(event_fname)[:30]\n",
    "\n",
    "channel = 'MEG 1332'  # include only this channel in analysis\n",
    "include = [channel]"
   ]
  },
  {
   "cell_type": "markdown",
   "metadata": {},
   "source": [
    "Read epochs for the channel of interest\n",
    "\n"
   ]
  },
  {
   "cell_type": "code",
   "execution_count": null,
   "metadata": {
    "collapsed": false,
    "jupyter": {
     "outputs_hidden": false
    }
   },
   "outputs": [],
   "source": [
    "picks = mne.pick_types(raw.info, meg=False, eog=True, include=include,\n",
    "                       exclude='bads')\n",
    "event_id = 1\n",
    "reject = dict(grad=4000e-13, eog=150e-6)\n",
    "epochs = mne.Epochs(raw, events, event_id, tmin, tmax, picks=picks,\n",
    "                    baseline=(None, 0), reject=reject)\n",
    "X = epochs.get_data()  # as 3D matrix\n",
    "X = X[:, 0, :]  # take only one channel to get a 2D array"
   ]
  },
  {
   "cell_type": "markdown",
   "metadata": {},
   "source": [
    "Compute statistic\n",
    "\n"
   ]
  },
  {
   "cell_type": "code",
   "execution_count": null,
   "metadata": {
    "collapsed": false,
    "jupyter": {
     "outputs_hidden": false
    }
   },
   "outputs": [],
   "source": [
    "T, pval = stats.ttest_1samp(X, 0)\n",
    "alpha = 0.05\n",
    "\n",
    "n_samples, n_tests = X.shape\n",
    "threshold_uncorrected = stats.t.ppf(1.0 - alpha, n_samples - 1)\n",
    "\n",
    "reject_bonferroni, pval_bonferroni = bonferroni_correction(pval, alpha=alpha)\n",
    "threshold_bonferroni = stats.t.ppf(1.0 - alpha / n_tests, n_samples - 1)\n",
    "\n",
    "reject_fdr, pval_fdr = fdr_correction(pval, alpha=alpha, method='indep')\n",
    "threshold_fdr = np.min(np.abs(T)[reject_fdr])"
   ]
  },
  {
   "cell_type": "markdown",
   "metadata": {},
   "source": [
    "Plot\n",
    "\n"
   ]
  },
  {
   "cell_type": "code",
   "execution_count": null,
   "metadata": {
    "collapsed": false,
    "jupyter": {
     "outputs_hidden": false
    }
   },
   "outputs": [],
   "source": [
    "times = 1e3 * epochs.times\n",
    "\n",
    "plt.close('all')\n",
    "plt.plot(times, T, 'k', label='T-stat')\n",
    "xmin, xmax = plt.xlim()\n",
    "plt.hlines(threshold_uncorrected, xmin, xmax, linestyle='--', colors='k',\n",
    "           label='p=0.05 (uncorrected)', linewidth=2)\n",
    "plt.hlines(threshold_bonferroni, xmin, xmax, linestyle='--', colors='r',\n",
    "           label='p=0.05 (Bonferroni)', linewidth=2)\n",
    "plt.hlines(threshold_fdr, xmin, xmax, linestyle='--', colors='b',\n",
    "           label='p=0.05 (FDR)', linewidth=2)\n",
    "plt.legend()\n",
    "plt.xlabel(\"Time (ms)\")\n",
    "plt.ylabel(\"T-stat\")\n",
    "plt.show()"
   ]
  }
 ],
 "metadata": {
  "kernelspec": {
   "display_name": "Python 3 (ipykernel)",
   "language": "python",
   "name": "python3"
  },
  "language_info": {
   "codemirror_mode": {
    "name": "ipython",
    "version": 3
   },
   "file_extension": ".py",
   "mimetype": "text/x-python",
   "name": "python",
   "nbconvert_exporter": "python",
   "pygments_lexer": "ipython3",
   "version": "3.7.0"
  }
 },
 "nbformat": 4,
 "nbformat_minor": 4
}
